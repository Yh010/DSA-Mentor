{
 "cells": [
  {
   "cell_type": "code",
   "execution_count": 2,
   "metadata": {},
   "outputs": [
    {
     "name": "stdout",
     "output_type": "stream",
     "text": [
      "hello world\n"
     ]
    }
   ],
   "source": [
    "print(\"hello world\")"
   ]
  },
  {
   "cell_type": "code",
   "execution_count": 11,
   "metadata": {},
   "outputs": [
    {
     "data": {
      "text/plain": [
       "['Requirement already satisfied: python-dotenv in d:\\\\projects\\\\dsa mentor\\\\.venv\\\\lib\\\\site-packages (1.1.1)',\n",
       " 'Collecting openai',\n",
       " '  Downloading openai-2.3.0-py3-none-any.whl.metadata (29 kB)',\n",
       " 'Collecting anyio<5,>=3.5.0 (from openai)',\n",
       " '  Downloading anyio-4.11.0-py3-none-any.whl.metadata (4.1 kB)',\n",
       " 'Collecting distro<2,>=1.7.0 (from openai)',\n",
       " '  Downloading distro-1.9.0-py3-none-any.whl.metadata (6.8 kB)',\n",
       " 'Collecting httpx<1,>=0.23.0 (from openai)',\n",
       " '  Downloading httpx-0.28.1-py3-none-any.whl.metadata (7.1 kB)',\n",
       " 'Collecting jiter<1,>=0.10.0 (from openai)',\n",
       " '  Downloading jiter-0.11.0-cp313-cp313-win_amd64.whl.metadata (5.3 kB)',\n",
       " 'Collecting pydantic<3,>=1.9.0 (from openai)',\n",
       " '  Downloading pydantic-2.12.0-py3-none-any.whl.metadata (83 kB)',\n",
       " 'Collecting sniffio (from openai)',\n",
       " '  Downloading sniffio-1.3.1-py3-none-any.whl.metadata (3.9 kB)',\n",
       " 'Collecting tqdm>4 (from openai)',\n",
       " '  Downloading tqdm-4.67.1-py3-none-any.whl.metadata (57 kB)',\n",
       " 'Collecting typing-extensions<5,>=4.11 (from openai)',\n",
       " '  Downloading typing_extensions-4.15.0-py3-none-any.whl.metadata (3.3 kB)',\n",
       " 'Collecting idna>=2.8 (from anyio<5,>=3.5.0->openai)',\n",
       " '  Downloading idna-3.10-py3-none-any.whl.metadata (10 kB)',\n",
       " 'Collecting certifi (from httpx<1,>=0.23.0->openai)',\n",
       " '  Downloading certifi-2025.10.5-py3-none-any.whl.metadata (2.5 kB)',\n",
       " 'Collecting httpcore==1.* (from httpx<1,>=0.23.0->openai)',\n",
       " '  Downloading httpcore-1.0.9-py3-none-any.whl.metadata (21 kB)',\n",
       " 'Collecting h11>=0.16 (from httpcore==1.*->httpx<1,>=0.23.0->openai)',\n",
       " '  Downloading h11-0.16.0-py3-none-any.whl.metadata (8.3 kB)',\n",
       " 'Collecting annotated-types>=0.6.0 (from pydantic<3,>=1.9.0->openai)',\n",
       " '  Downloading annotated_types-0.7.0-py3-none-any.whl.metadata (15 kB)',\n",
       " 'Collecting pydantic-core==2.41.1 (from pydantic<3,>=1.9.0->openai)',\n",
       " '  Downloading pydantic_core-2.41.1-cp313-cp313-win_amd64.whl.metadata (7.4 kB)',\n",
       " 'Collecting typing-inspection>=0.4.2 (from pydantic<3,>=1.9.0->openai)',\n",
       " '  Downloading typing_inspection-0.4.2-py3-none-any.whl.metadata (2.6 kB)',\n",
       " 'Requirement already satisfied: colorama in d:\\\\projects\\\\dsa mentor\\\\.venv\\\\lib\\\\site-packages (from tqdm>4->openai) (0.4.6)',\n",
       " 'Downloading openai-2.3.0-py3-none-any.whl (999 kB)',\n",
       " '   ---------------------------------------- 0.0/999.8 kB ? eta -:--:--',\n",
       " '   ---------------------------------------- 999.8/999.8 kB 9.5 MB/s  0:00:00',\n",
       " 'Downloading anyio-4.11.0-py3-none-any.whl (109 kB)',\n",
       " 'Downloading distro-1.9.0-py3-none-any.whl (20 kB)',\n",
       " 'Downloading httpx-0.28.1-py3-none-any.whl (73 kB)',\n",
       " 'Downloading httpcore-1.0.9-py3-none-any.whl (78 kB)',\n",
       " 'Downloading jiter-0.11.0-cp313-cp313-win_amd64.whl (202 kB)',\n",
       " 'Downloading pydantic-2.12.0-py3-none-any.whl (459 kB)',\n",
       " 'Downloading pydantic_core-2.41.1-cp313-cp313-win_amd64.whl (2.0 MB)',\n",
       " '   ---------------------------------------- 0.0/2.0 MB ? eta -:--:--',\n",
       " '   ---------------------------------------- 2.0/2.0 MB 23.6 MB/s  0:00:00',\n",
       " 'Downloading typing_extensions-4.15.0-py3-none-any.whl (44 kB)',\n",
       " 'Downloading annotated_types-0.7.0-py3-none-any.whl (13 kB)',\n",
       " 'Downloading h11-0.16.0-py3-none-any.whl (37 kB)',\n",
       " 'Downloading idna-3.10-py3-none-any.whl (70 kB)',\n",
       " 'Downloading sniffio-1.3.1-py3-none-any.whl (10 kB)',\n",
       " 'Downloading tqdm-4.67.1-py3-none-any.whl (78 kB)',\n",
       " 'Downloading typing_inspection-0.4.2-py3-none-any.whl (14 kB)',\n",
       " 'Downloading certifi-2025.10.5-py3-none-any.whl (163 kB)',\n",
       " 'Installing collected packages: typing-extensions, tqdm, sniffio, jiter, idna, h11, distro, certifi, annotated-types, typing-inspection, pydantic-core, httpcore, anyio, pydantic, httpx, openai',\n",
       " '',\n",
       " '   ----------------------------------------  0/16 [typing-extensions]',\n",
       " '   ----------------------------------------  0/16 [typing-extensions]',\n",
       " '   -- -------------------------------------  1/16 [tqdm]',\n",
       " '   -- -------------------------------------  1/16 [tqdm]',\n",
       " '   ----- ----------------------------------  2/16 [sniffio]',\n",
       " '   ---------- -----------------------------  4/16 [idna]',\n",
       " '   ---------- -----------------------------  4/16 [idna]',\n",
       " '   ------------ ---------------------------  5/16 [h11]',\n",
       " '   ----------------- ----------------------  7/16 [certifi]',\n",
       " '   -------------------- -------------------  8/16 [annotated-types]',\n",
       " '   ------------------------- -------------- 10/16 [pydantic-core]',\n",
       " '   --------------------------- ------------ 11/16 [httpcore]',\n",
       " '   --------------------------- ------------ 11/16 [httpcore]',\n",
       " '   ------------------------------ --------- 12/16 [anyio]',\n",
       " '   ------------------------------ --------- 12/16 [anyio]',\n",
       " '   -------------------------------- ------- 13/16 [pydantic]',\n",
       " '   -------------------------------- ------- 13/16 [pydantic]',\n",
       " '   -------------------------------- ------- 13/16 [pydantic]',\n",
       " '   -------------------------------- ------- 13/16 [pydantic]',\n",
       " '   -------------------------------- ------- 13/16 [pydantic]',\n",
       " '   ----------------------------------- ---- 14/16 [httpx]',\n",
       " '   ------------------------------------- -- 15/16 [openai]',\n",
       " '   ------------------------------------- -- 15/16 [openai]',\n",
       " '   ------------------------------------- -- 15/16 [openai]',\n",
       " '   ------------------------------------- -- 15/16 [openai]',\n",
       " '   ------------------------------------- -- 15/16 [openai]',\n",
       " '   ------------------------------------- -- 15/16 [openai]',\n",
       " '   ------------------------------------- -- 15/16 [openai]',\n",
       " '   ------------------------------------- -- 15/16 [openai]',\n",
       " '   ------------------------------------- -- 15/16 [openai]',\n",
       " '   ------------------------------------- -- 15/16 [openai]',\n",
       " '   ------------------------------------- -- 15/16 [openai]',\n",
       " '   ------------------------------------- -- 15/16 [openai]',\n",
       " '   ------------------------------------- -- 15/16 [openai]',\n",
       " '   ------------------------------------- -- 15/16 [openai]',\n",
       " '   ------------------------------------- -- 15/16 [openai]',\n",
       " '   ------------------------------------- -- 15/16 [openai]',\n",
       " '   ------------------------------------- -- 15/16 [openai]',\n",
       " '   ------------------------------------- -- 15/16 [openai]',\n",
       " '   ---------------------------------------- 16/16 [openai]',\n",
       " '',\n",
       " 'Successfully installed annotated-types-0.7.0 anyio-4.11.0 certifi-2025.10.5 distro-1.9.0 h11-0.16.0 httpcore-1.0.9 httpx-0.28.1 idna-3.10 jiter-0.11.0 openai-2.3.0 pydantic-2.12.0 pydantic-core-2.41.1 sniffio-1.3.1 tqdm-4.67.1 typing-extensions-4.15.0 typing-inspection-0.4.2']"
      ]
     },
     "execution_count": 11,
     "metadata": {},
     "output_type": "execute_result"
    }
   ],
   "source": [
    "!!pip install python-dotenv openai\n"
   ]
  },
  {
   "cell_type": "code",
   "execution_count": 12,
   "metadata": {},
   "outputs": [],
   "source": [
    "import os\n",
    "import json\n",
    "from dotenv import load_dotenv\n",
    "from openai import OpenAI"
   ]
  },
  {
   "cell_type": "code",
   "execution_count": 13,
   "metadata": {},
   "outputs": [],
   "source": [
    "load_dotenv(override=True)\n",
    "api_key = os.getenv('ZnapAI_API_KEY')"
   ]
  },
  {
   "cell_type": "code",
   "execution_count": 14,
   "metadata": {},
   "outputs": [],
   "source": [
    "MODEL = 'gpt-4o-mini'\n",
    "openai = OpenAI(\n",
    "     api_key=api_key,\n",
    "    base_url=\"https://api.znapai.com/\"\n",
    ")"
   ]
  },
  {
   "cell_type": "code",
   "execution_count": 16,
   "metadata": {},
   "outputs": [
    {
     "name": "stdout",
     "output_type": "stream",
     "text": [
      "I'm just a computer program, so I don't have feelings, but I'm here and ready to help you! How can I assist you today?\n"
     ]
    }
   ],
   "source": [
    "response = openai.chat.completions.create(\n",
    "    model=MODEL,\n",
    "    messages=[\n",
    "        {\"role\": \"system\", \"content\": \"You are a helpful assistant\"},\n",
    "        {\"role\": \"user\", \"content\": \"How are you\"}\n",
    "    ],\n",
    "    response_format={\"type\": \"json_object\"}\n",
    ")\n",
    "result = response.choices[0].message.content\n",
    "print(result)"
   ]
  }
 ],
 "metadata": {
  "kernelspec": {
   "display_name": ".venv",
   "language": "python",
   "name": "python3"
  },
  "language_info": {
   "codemirror_mode": {
    "name": "ipython",
    "version": 3
   },
   "file_extension": ".py",
   "mimetype": "text/x-python",
   "name": "python",
   "nbconvert_exporter": "python",
   "pygments_lexer": "ipython3",
   "version": "3.13.5"
  }
 },
 "nbformat": 4,
 "nbformat_minor": 2
}
