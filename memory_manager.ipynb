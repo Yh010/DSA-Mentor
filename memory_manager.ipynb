{
 "cells": [
  {
   "cell_type": "code",
   "execution_count": null,
   "id": "a3d1e157",
   "metadata": {},
   "outputs": [],
   "source": [
    "import json, os, uuid, datetime\n",
    "\n",
    "MEMORY_FILE = \"mentor_memory.json\"\n",
    "\n",
    "def load_memory():\n",
    "    if not os.path.exists(MEMORY_FILE):\n",
    "        return []\n",
    "    with open(MEMORY_FILE, \"r\", encoding=\"utf-8\") as f:\n",
    "        return json.load(f)\n",
    "\n",
    "def save_memory(memories):\n",
    "    with open(MEMORY_FILE, \"w\", encoding=\"utf-8\") as f:\n",
    "        json.dump(memories, f, indent=2)\n",
    "\n",
    "def create_memory_entry(problem_title, user_code, outcome, error_patterns, notes):\n",
    "    memories = load_memory()\n",
    "    memory_id = str(uuid.uuid4())[:8]\n",
    "    entry = {\n",
    "        \"memory_id\": memory_id,\n",
    "        \"timestamp\": datetime.datetime.utcnow().isoformat(),\n",
    "        \"problem_title\": problem_title,\n",
    "        \"user_code\": user_code[:500],  # avoid huge payloads\n",
    "        \"outcome\": outcome,\n",
    "        \"error_patterns\": error_patterns,\n",
    "        \"notes\": notes,\n",
    "        \"fix_attempts\": 1\n",
    "    }\n",
    "    memories.append(entry)\n",
    "    save_memory(memories)\n",
    "    return memory_id\n",
    "\n",
    "def update_memory_entry(memory_id, new_error_patterns=None, new_notes=None):\n",
    "    memories = load_memory()\n",
    "    for m in memories:\n",
    "        if m[\"memory_id\"] == memory_id:\n",
    "            if new_error_patterns:\n",
    "                m[\"error_patterns\"] = list(set(m[\"error_patterns\"] + new_error_patterns))\n",
    "            if new_notes:\n",
    "                m[\"notes\"] = (m.get(\"notes\", \"\") + \"\\n\" + new_notes).strip()\n",
    "            m[\"fix_attempts\"] = m.get(\"fix_attempts\", 0) + 1\n",
    "            m[\"timestamp\"] = datetime.datetime.utcnow().isoformat()\n",
    "    save_memory(memories)\n",
    "    return True\n",
    "\n",
    "def search_similar(problem_title, keywords):\n",
    "    \"\"\"Naive text search for similar problems / error patterns\"\"\"\n",
    "    memories = load_memory()\n",
    "    results = []\n",
    "    for m in memories:\n",
    "        if problem_title.lower() in m[\"problem_title\"].lower() or any(k in m[\"error_patterns\"] for k in keywords):\n",
    "            results.append(m)\n",
    "    return results\n"
   ]
  }
 ],
 "metadata": {
  "kernelspec": {
   "display_name": ".venv",
   "language": "python",
   "name": "python3"
  },
  "language_info": {
   "codemirror_mode": {
    "name": "ipython",
    "version": 3
   },
   "file_extension": ".py",
   "mimetype": "text/x-python",
   "name": "python",
   "nbconvert_exporter": "python",
   "pygments_lexer": "ipython3",
   "version": "3.13.5"
  }
 },
 "nbformat": 4,
 "nbformat_minor": 5
}
